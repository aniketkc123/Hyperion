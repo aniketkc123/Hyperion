{
 "cells": [
  {
   "cell_type": "code",
   "execution_count": null,
   "metadata": {},
   "outputs": [],
   "source": [
    "import sys, os\n",
    "sys.path.append('../src')\n",
    "import numpy as np, pandas as pd\n",
    "import matplotlib.pyplot as plt\n",
    "from src.data_loader import load_csv, standardize_dataframe\n",
    "from src.modeling import analyze_lightcurve, fit_dark_matter_density\n",
    "%matplotlib inline"
   ]
  },
  {
   "cell_type": "code",
   "execution_count": null,
   "metadata": {},
   "outputs": [],
   "source": [
    "df = load_csv('dataset.csv')\n",
    "df = standardize_dataframe(df)\n",
    "df.head()"
   ]
  },
  {
   "cell_type": "code",
   "execution_count": null,
   "metadata": {},
   "outputs": [],
   "source": [
    "df.describe()\n",
    "plt.figure(figsize=(8,4))\n",
    "plt.hist(df['flux'].dropna(), bins=50)\n",
    "plt.title('Flux distribution')"
   ]
  },
  {
   "cell_type": "code",
   "execution_count": null,
   "metadata": {},
   "outputs": [],
   "source": [
    "analyze_lightcurve(df)\n",
    "params, cov = fit_dark_matter_density(df)\n",
    "print('Fitted params:', params)"
   ]
  },
  {
   "cell_type": "markdown",
   "metadata": {},
   "source": [
    "### Results\n",
    "- Brief summary of best-fit parameter values.\n",
    "- Figures show ...\n",
    "- Interpretation: ..."
   ]
  }
 ],
 "metadata": {},
 "nbformat": 4,
 "nbformat_minor": 2
}
